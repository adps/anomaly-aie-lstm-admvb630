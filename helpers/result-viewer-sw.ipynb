{
 "cells": [
  {
   "cell_type": "markdown",
   "metadata": {},
   "source": [
    "# Results \n",
    "- Plot training/test telemetry values, predictions, smoothed errors, and predicted and actual anomalies\n",
    "- A specified results file from the `results` dir is used to highlight anomalous regions and read in data from the `data` dir"
   ]
  },
  {
   "cell_type": "code",
   "execution_count": null,
   "metadata": {},
   "outputs": [],
   "source": [
    "import sys\n",
    "import numpy as np\n",
    "import os\n",
    "sys.path.insert(0, '..')\n",
    "from telemanom.plotting import Plotter\n",
    "import pandas as pd\n",
    "import plotly as py\n",
    "from plotly.offline import download_plotlyjs, init_notebook_mode\n",
    "import cufflinks as cf\n",
    "import glob\n",
    "cf.go_offline()\n",
    "init_notebook_mode(connected=True)\n",
    "\n",
    "%load_ext autoreload\n",
    "%autoreload 2"
   ]
  },
  {
   "cell_type": "code",
   "execution_count": null,
   "metadata": {},
   "outputs": [],
   "source": [
    "%%javascript\n",
    "IPython.OutputArea.prototype._should_scroll = function(lines) {\n",
    "    return false;\n",
    "}"
   ]
  },
  {
   "cell_type": "markdown",
   "metadata": {},
   "source": [
    "## Select set of results to visualize"
   ]
  },
  {
   "cell_type": "code",
   "execution_count": null,
   "metadata": {},
   "outputs": [],
   "source": [
    "# Default to most recent\n",
    "results_fn = glob.glob('../results/*.csv')[-1]\n",
    "print('Using most recent run: {}'.format(results_fn.split(\"/\")[-1]))\n",
    "\n",
    "run_id = results_fn.split(\"/\")[-1][:-4]"
   ]
  },
  {
   "cell_type": "markdown",
   "metadata": {},
   "source": [
    "## Parameters\n",
    "- See `config.yaml` for parameter explanations"
   ]
  },
  {
   "cell_type": "code",
   "execution_count": null,
   "metadata": {},
   "outputs": [],
   "source": [
    "with open('../data/{}/params.log'.format(run_id), 'r') as f:\n",
    "    for i,row in enumerate(f.readlines()):\n",
    "        if len(row) < 2:\n",
    "            break\n",
    "        if i > 0:\n",
    "            print(' '.join(row.split(' ')[3:]).replace('\\n',''))"
   ]
  },
  {
   "cell_type": "markdown",
   "metadata": {},
   "source": [
    "## Summary of results"
   ]
  },
  {
   "cell_type": "code",
   "execution_count": null,
   "metadata": {},
   "outputs": [],
   "source": [
    "plotter = Plotter(run_id)\n",
    "plotter.all_result_summary()"
   ]
  },
  {
   "cell_type": "markdown",
   "metadata": {},
   "source": [
    "## Interactive inline Plotly charts for viewing `y_test`, `y_hat`, and `smoothed errors (e_s)`\n",
    "- **Blue** highlighted regions indicate anomalous sequences detected by the system\n",
    "- If available, **Red** highlighted regions indicate true anomalous regions\n",
    "- Can also optionally plot training data by setting `plot_train=True`"
   ]
  },
  {
   "cell_type": "code",
   "execution_count": null,
   "metadata": {
    "scrolled": false
   },
   "outputs": [],
   "source": [
    "# Get channels from the project configuration\n",
    "sys.path.insert(0, os.path.abspath('../../helpers'))\n",
    "from helpers import (\n",
    "    get_projects_and_run_settings,\n",
    "    load_config\n",
    ")\n",
    "\n",
    "prj_config = load_config('../../helpers/prj_config.yaml')\n",
    "projects, run_settings = get_projects_and_run_settings(prj_config)\n",
    "\n",
    "example_project = None\n",
    "for project in projects:\n",
    "    if run_settings['project'] in project:\n",
    "        example_project = project[run_settings['project']]\n",
    "\n",
    "if example_project is None:\n",
    "    print(f\"[anomaly_aie_lstm] Project name {run_settings['project']}' not found in prj_config.yaml.\")\n",
    "else:\n",
    "    for model_par in example_project['graphs']:\n",
    "        for i in range(0, len(model_par['models'])):\n",
    "            plotter.plot_channel(model_par['models'][i], plot_errors=True, plot_train=False)"
   ]
  }
 ],
 "metadata": {
  "kernelspec": {
   "display_name": "Python 3",
   "language": "python",
   "name": "python3"
  },
  "language_info": {
   "codemirror_mode": {
    "name": "ipython",
    "version": 3
   },
   "file_extension": ".py",
   "mimetype": "text/x-python",
   "name": "python",
   "nbconvert_exporter": "python",
   "pygments_lexer": "ipython3",
   "version": "3.6.9"
  }
 },
 "nbformat": 4,
 "nbformat_minor": 2
}
