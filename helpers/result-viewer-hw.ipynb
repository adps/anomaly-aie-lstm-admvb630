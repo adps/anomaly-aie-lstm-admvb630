{
 "cells": [
  {
   "cell_type": "markdown",
   "metadata": {},
   "source": [
    "# Results \n",
    "- Plot training/test telemetry values, predictions, smoothed errors, and predicted and actual anomalies\n",
    "- A specified results file from the `results` dir is used to highlight anomalous regions and read in data from the `data` dir"
   ]
  },
  {
   "cell_type": "code",
   "execution_count": null,
   "metadata": {},
   "outputs": [],
   "source": [
    "import sys\n",
    "import numpy as np\n",
    "import os\n",
    "sys.path.insert(0, '..')\n",
    "from telemanom.plotting import Plotter\n",
    "import pandas as pd\n",
    "import plotly as py\n",
    "from plotly.offline import download_plotlyjs, init_notebook_mode\n",
    "import cufflinks as cf\n",
    "import glob\n",
    "cf.go_offline()\n",
    "init_notebook_mode(connected=True)\n",
    "\n",
    "%load_ext autoreload\n",
    "%autoreload 2"
   ]
  },
  {
   "cell_type": "code",
   "execution_count": null,
   "metadata": {},
   "outputs": [],
   "source": [
    "%%javascript\n",
    "IPython.OutputArea.prototype._should_scroll = function(lines) {\n",
    "    return false;\n",
    "}"
   ]
  },
  {
   "cell_type": "markdown",
   "metadata": {},
   "source": [
    "## Select set of results to visualize"
   ]
  },
  {
   "cell_type": "code",
   "execution_count": null,
   "metadata": {},
   "outputs": [],
   "source": [
    "# Default to most recent\n",
    "results_fn = glob.glob('../results/*.csv')[-1]\n",
    "print('Using most recent run: {}'.format(results_fn.split(\"/\")[-1]))\n",
    "\n",
    "run_id = results_fn.split(\"/\")[-1][:-4]"
   ]
  },
  {
   "cell_type": "markdown",
   "metadata": {},
   "source": [
    "## Parameters\n",
    "- See `config.yaml` for parameter explanations"
   ]
  },
  {
   "cell_type": "code",
   "execution_count": null,
   "metadata": {},
   "outputs": [],
   "source": [
    "with open('../data/{}/params.log'.format(run_id), 'r') as f:\n",
    "    for i,row in enumerate(f.readlines()):\n",
    "        if len(row) < 2:\n",
    "            break\n",
    "        if i > 0:\n",
    "            print(' '.join(row.split(' ')[3:]).replace('\\n',''))"
   ]
  },
  {
   "cell_type": "markdown",
   "metadata": {},
   "source": [
    "## Summary of results"
   ]
  },
  {
   "cell_type": "code",
   "execution_count": null,
   "metadata": {},
   "outputs": [],
   "source": [
    "plotter = Plotter(run_id)\n",
    "plotter.all_result_summary()"
   ]
  },
  {
   "cell_type": "markdown",
   "metadata": {},
   "source": [
    "## Interactive inline Plotly charts for viewing `y_test`, `y_hat`, and `smoothed errors (e_s)`\n",
    "- **Blue** highlighted regions indicate anomalous sequences detected by the system\n",
    "- If available, **Red** highlighted regions indicate true anomalous regions\n",
    "- Can also optionally plot training data by setting `plot_train=True`"
   ]
  },
  {
   "cell_type": "code",
   "execution_count": null,
   "metadata": {
    "scrolled": false
   },
   "outputs": [],
   "source": [
    "from telemanom.helpers import Config\n",
    "from telemanom.channel import Channel\n",
    "from pathlib import Path\n",
    "sys.path.insert(0, os.path.abspath('../../helpers'))\n",
    "from helpers import (\n",
    "    get_projects_and_run_settings,\n",
    "    load_config,\n",
    "    txt_to_npy_selective_reshape,\n",
    "    plot_channel_hw\n",
    ")\n",
    "\n",
    "current_directory = Path.cwd()\n",
    "parent_directory = current_directory.parent\n",
    "\n",
    "PlotterHW = Plotter(run_id)\n",
    "plotter.plot_channel = plot_channel_hw.__get__(PlotterHW)\n",
    "\n",
    "config = Config('config.yaml')\n",
    "prj_config = load_config('../../helpers/prj_config.yaml')\n",
    "projects, run_settings = get_projects_and_run_settings(prj_config)\n",
    "\n",
    "example_project = None\n",
    "for project in projects:\n",
    "    if run_settings['project'] in project:\n",
    "        example_project = project[run_settings['project']]\n",
    "\n",
    "if example_project is None:\n",
    "    print(f\"[anomaly_aie_lstm] Project name {run_settings['project']}' not found in prj_config\")\n",
    "else:\n",
    "    for model_par in example_project['graphs']:\n",
    "        for i in range(0, len(model_par['models'])):\n",
    "            channel = Channel(config, model_par['models'][i])\n",
    "            txt_file = os.path.join('../../lstmsettings['project'], \n",
    "                                    'output', 'hout_{}.txt'.format(model_par['models'][i]))\n",
    "            npy_file = os.path.join(parent_directory, 'data', config.use_id, 'y_hat_hw', \n",
    "                                    '{}.npy'.format(model_par['models'][i]))\n",
    "            txt_to_npy_selective_reshape(txt_file, npy_file, 16, (-1,))\n",
    "            \n",
    "            channel.y_hat = np.load(os.path.join(parent_directory, 'data', config.use_id, \n",
    "                                                 'y_hat_hw', '{}.npy'.format(model_par['models'][i])))\n",
    "            channel.y_test = np.load(os.path.join(parent_directory, \"data\", \n",
    "                                                  \"test\", \"{}.npy\".format(model_par['models'][i])))\n",
    "\n",
    "            channel.shape_data(channel.y_test, train=False)\n",
    "\n",
    "            # Raw prediction error\n",
    "            e = [abs(y_h-y_t[0]) for y_h, y_t in zip(channel.y_hat, channel.y_test)]\n",
    "            smoothing_window = int(config.batch_size * config.window_size * config.smoothing_perc)\n",
    "\n",
    "            # Create smoothed prediction error\n",
    "            e_s = pd.DataFrame(e).ewm(span=smoothing_window).mean().values.flatten()\n",
    "            e_s[:config.l_s] = [np.mean(e_s[:config.l_s * 2])] * config.l_s\n",
    "            os.makedirs(os.path.join(parent_directory, 'data', config.use_id, \n",
    "                                     'smoothed_errors_hw'), exist_ok=True)\n",
    "            np.save(os.path.join(parent_directory, 'data', config.use_id, \n",
    "                                 'smoothed_errors_hw', '{}.npy'.format(model_par['models'][i])), \n",
    "                                 np.array(e_s))\n",
    "\n",
    "            plotter.plot_channel(model_par['models'][i], plot_errors=True, plot_train=False)\n"
   ]
  }
 ],
 "metadata": {
  "kernelspec": {
   "display_name": "Python 3",
   "language": "python",
   "name": "python3"
  },
  "language_info": {
   "codemirror_mode": {
    "name": "ipython",
    "version": 3
   },
   "file_extension": ".py",
   "mimetype": "text/x-python",
   "name": "python",
   "nbconvert_exporter": "python",
   "pygments_lexer": "ipython3",
   "version": "3.6.9"
  }
 },
 "nbformat": 4,
 "nbformat_minor": 2
}
